{
  "cells": [
    {
      "cell_type": "markdown",
      "metadata": {
        "id": "r9HxtwHbk6Pc"
      },
      "source": [
        "# Soft Actor Critic Agent(115 Points)\n",
        "This is my implementation of SAC in off-policy and offline RL for RL course of Sharif University of Technology (Winter 2023)"
      ]
    },
    {
      "cell_type": "markdown",
      "metadata": {
        "id": "1PJUxRV4MIod"
      },
      "source": [
        "In this notebook, we are going to implement **Soft Actor Critic (SAC)**\n",
        "on the **CartPole** environment in online and offline settings. In this framework, the actor aims to maximize the expected reward while also maximizing **entropy**. That is, to succeed at the task while acting as randomly as possible. This method seeks a high entropy in the policy to explicitly encourage exploration. For the offline setting, you are going to make SAC conservative using CQL method.\n",
        "\n",
        "* SAC is an off-policy algorithm.\n",
        "* The version of SAC implemented here can only be used for environments with discrete action spaces.\n",
        "* An alternate version of SAC, which slightly changes the policy update  rule, can be implemented to handle continuous action spaces.\n",
        "* Complete the **TODO** parts in the code accordingly.\n",
        "* Remember to answer the conceptual questions.\n",
        "\n",
        "\n"
      ]
    },
    {
      "cell_type": "code",
      "execution_count": 1,
      "metadata": {
        "id": "UC-BecdPmdb3"
      },
      "outputs": [],
      "source": [
        "import torch\n",
        "import torch.nn as nn\n",
        "import torch.nn.functional as F\n",
        "from torch.distributions import Normal\n",
        "import torch.optim as optim\n",
        "import numpy as np\n",
        "import random\n",
        "import gym\n",
        "import matplotlib.pyplot as plt\n",
        "\n",
        "\n",
        "seed = 42\n",
        "random.seed(seed)\n",
        "np.random.seed(seed)\n",
        "torch.manual_seed(seed)\n",
        "torch.cuda.manual_seed(seed)\n",
        "torch.backends.cudnn.deterministic = True"
      ]
    },
    {
      "cell_type": "markdown",
      "metadata": {
        "id": "_whWTLZejkm3"
      },
      "source": [
        "## Network Structure (8 points)\n",
        "For constructing SAC agent, we use objects of feedforward neural networks with 3 layers. Complete the code below."
      ]
    },
    {
      "cell_type": "code",
      "execution_count": 2,
      "metadata": {
        "colab": {
          "base_uri": "https://localhost:8080/"
        },
        "id": "4pxOyt0xh4nN",
        "outputId": "9880787a-94ab-4d52-9ca7-3d35aa30560b"
      },
      "outputs": [],
      "source": [
        "class Network(torch.nn.Module):\n",
        "\n",
        "    def __init__(self, input_dimension, output_dimension, output_activation=torch.nn.Identity()):\n",
        "        super(Network, self).__init__()\n",
        "        ##########################################################\n",
        "        # TODO (4 points):\n",
        "        # Define your network layers.\n",
        "        ##########################################################\n",
        "        self.input_dimension = input_dimension\n",
        "        self.output_dimension = output_dimension\n",
        "        self.output_activation = output_activation\n",
        "\n",
        "        self.fc1 = nn.Linear(self.input_dimension, self.input_dimension * 4)\n",
        "        self.fc2 = nn.Linear(self.input_dimension * 4, self.input_dimension * 32)\n",
        "        self.fc3 = nn.Linear(self.input_dimension * 32, self.output_dimension)\n",
        "        ##########################################################\n",
        "\n",
        "    def forward(self, inpt):\n",
        "        output = None\n",
        "        ##########################################################\n",
        "        # TODO (4 points):\n",
        "        # Use relu and the output activation functions to calculate the output\n",
        "        ##########################################################\n",
        "        x = torch.relu(self.fc1(inpt))\n",
        "        x = torch.relu(self.fc2(x))\n",
        "        output = self.output_activation(self.fc3(x))\n",
        "        return output\n",
        "        ##########################################################"
      ]
    },
    {
      "cell_type": "markdown",
      "metadata": {
        "id": "DToSGdmDka1u"
      },
      "source": [
        "## Replay Buffer\n",
        "\n",
        "A SAC agent needs a replay buffer, from which previously visited states can be sampled. You can use the implemented code below. You are going to use the replay buffer of a pretrained online agent to train the offline model."
      ]
    },
    {
      "cell_type": "code",
      "execution_count": 3,
      "metadata": {
        "id": "UC7jTwJXh8wl"
      },
      "outputs": [],
      "source": [
        "import numpy as np\n",
        "\n",
        "\n",
        "class ReplayBuffer:\n",
        "\n",
        "    def __init__(self, environment, capacity=500000): #maybe 10^6 is better\n",
        "        transition_type_str = self.get_transition_type_str(environment)\n",
        "        self.buffer = np.zeros(capacity, dtype=transition_type_str)\n",
        "        self.weights = np.zeros(capacity)\n",
        "        self.head_idx = 0\n",
        "        self.count = 0\n",
        "        self.capacity = capacity\n",
        "        self.max_weight = 10**-2\n",
        "        self.delta = 10**-4\n",
        "        self.indices = None\n",
        "        self.mirror_index = np.random.permutation(range(self.buffer.shape[0]))\n",
        "\n",
        "    def get_transition_type_str(self, environment):\n",
        "        state_dim = environment.observation_space.shape[0]\n",
        "        state_dim_str = '' if state_dim == () else str(state_dim)\n",
        "        state_type_str = environment.observation_space.sample().dtype.name\n",
        "        action_dim = environment.action_space.shape\n",
        "        action_dim_str = '' if action_dim == () else str(action_dim)\n",
        "        action_type_str = environment.action_space.sample().__class__.__name__\n",
        "\n",
        "        # type str for transition = 'state type, action type, reward type, state type'\n",
        "        transition_type_str = '{0}{1}, {2}{3}, float32, {0}{1}, bool'.format(state_dim_str, state_type_str,\n",
        "                                                                             action_dim_str, action_type_str)\n",
        "\n",
        "        return transition_type_str\n",
        "\n",
        "    def add_transition(self, transition):\n",
        "        self.buffer[self.head_idx] = transition\n",
        "        self.weights[self.head_idx] = self.max_weight\n",
        "\n",
        "        self.head_idx = (self.head_idx + 1) % self.capacity\n",
        "        self.count = min(self.count + 1, self.capacity)\n",
        "\n",
        "    def sample_minibatch(self, size=100, batch_deterministic_start=None):\n",
        "        set_weights = self.weights[:self.count] + self.delta\n",
        "        probabilities = set_weights / sum(set_weights)\n",
        "        if batch_deterministic_start is None:\n",
        "            self.indices = np.random.choice(range(self.count), size, p=probabilities, replace=False)\n",
        "        else:\n",
        "            self.indices = self.mirror_index[batch_deterministic_start:batch_deterministic_start+size]\n",
        "        return self.buffer[self.indices]\n",
        "\n",
        "    def update_weights(self, prediction_errors):\n",
        "        max_error = max(prediction_errors)\n",
        "        self.max_weight = max(self.max_weight, max_error)\n",
        "        self.weights[self.indices] = prediction_errors\n",
        "\n",
        "    def get_size(self):\n",
        "        return self.count"
      ]
    },
    {
      "attachments": {},
      "cell_type": "markdown",
      "metadata": {
        "id": "fB2m89BjlNXY"
      },
      "source": [
        "## Questions (18 points)\n",
        "\n",
        "❓ We know that standard RL maximizes the expected sum of rewards. What is the objective function of SAC algorithm? Compare it to the standard RL loss.\n",
        "\\\n",
        "✅ expected sum of rewards plus relative importance multiplied by entropy of current policy.\n",
        "\n",
        "\n",
        "❓ Write down the actor cost function.\n",
        "\\\n",
        "✅ <img src=\"actor_cost_function.png\" alt=\"alt text\" width=\"500\"/>\n",
        "\n",
        "❓ Write down the critic cost function.\n",
        "\\\n",
        "✅ <img src=\"critic_cost_function.png\" alt=\"alt text\" width=\"800\"/>\n",
        "\n",
        "❓ Elaborate on the reason why most implementations of SAC use two critics (one local and one target).\n",
        "\\\n",
        "✅ This is the problem that arrises in Q-Learning using value function approximation (VFA). Because of Non-stationary targets, Q-Learning with VFA can diverge and the solution to this is to have two Q networks and update the target norwotk weights using Polyak Averaging.\n",
        "\n",
        "❓ What is the difference between training samples in offline and online settings?\n",
        "\\\n",
        "✅ In online setting our samples are more fresh (the ones we have seen recenelty and put in replay buffer) but in offline setting the samples are the samples of another policy (agent or exepert and in this exercise another agent) and we are trying to learning from them by stiching.\n",
        "\n",
        "❓ How does adding CQL on top of SAC change the objective function?\n",
        "\\\n",
        "✅ <img src=\"cql_objective.png\" alt=\"alt text\" width=\"800\"/>\n",
        "\\\n",
        "The min max and first 3 terms are the the difference (the third term is optional).\n"
      ]
    },
    {
      "cell_type": "markdown",
      "metadata": {
        "id": "5wOrt_EmfFFD"
      },
      "source": [
        "## SAC Agent (50 points)"
      ]
    },
    {
      "cell_type": "markdown",
      "metadata": {
        "id": "ScEk94Ubb01W"
      },
      "source": [
        "Now complete the following class. You can use the auxiliary methods provided in the class."
      ]
    },
    {
      "cell_type": "code",
      "execution_count": 12,
      "metadata": {
        "id": "A8bEgUc2hmet"
      },
      "outputs": [],
      "source": [
        "class SACAgent:\n",
        "\n",
        "    ALPHA_INITIAL = 1.\n",
        "    REPLAY_BUFFER_BATCH_SIZE = 100\n",
        "    DISCOUNT_RATE = 0.99\n",
        "    LEARNING_RATE = 10 ** -4\n",
        "    SOFT_UPDATE_INTERPOLATION_FACTOR = 0.01\n",
        "    TRADEOFF_FACTOR = 1 # trade-off factor in the CQL\n",
        "\n",
        "    def __init__(self, environment, replay_buffer=None, offline=False, use_cql=False):\n",
        "\n",
        "        #deleted assert use_cql and not offline because it was erroneous\n",
        "        #deleted assert offline and replay_buffer is None because it was erroneous\n",
        "\n",
        "        self.environment = environment\n",
        "        self.state_dim = self.environment.observation_space.shape[0]\n",
        "        self.action_dim = self.environment.action_space.n\n",
        "\n",
        "        \n",
        "        self.replay_buffer = ReplayBuffer(self.environment) if replay_buffer is None else replay_buffer\n",
        "        self.offline = offline\n",
        "        self.use_cql = use_cql\n",
        "\n",
        "        ##########################################################\n",
        "        # TODO (6 points):\n",
        "        # Define critics usig your implemented feed forward netwrok.\n",
        "        ##########################################################\n",
        "        self.critic_local = Network(input_dimension=self.state_dim, output_dimension=self.action_dim)\n",
        "        self.critic_local2 = Network(input_dimension=self.state_dim, output_dimension=self.action_dim)\n",
        "        self.critic_optimiser = optim.Adam(self.critic_local.parameters(), lr=self.LEARNING_RATE)\n",
        "        self.critic_optimiser2 = optim.Adam(self.critic_local2.parameters(), lr=self.LEARNING_RATE)\n",
        "        self.critic_target = Network(input_dimension=self.state_dim, output_dimension=self.action_dim)\n",
        "        self.critic_target2 = Network(input_dimension=self.state_dim, output_dimension=self.action_dim)\n",
        "        ##########################################################\n",
        "\n",
        "        self.soft_update_target_networks(tau=1.)\n",
        "\n",
        "        ##########################################################\n",
        "        # TODO (2 points):\n",
        "        # Define the actor using your implemented feed forward netwrok.\n",
        "        # Define the actor optimizer using torch.Adam.\n",
        "        ##########################################################\n",
        "        self.actor_local = Network(input_dimension=self.state_dim, output_dimension=self.action_dim, output_activation=torch.nn.Softmax(dim=1))\n",
        "        self.actor_optimiser  = optim.Adam(self.actor_local.parameters(), lr=self.LEARNING_RATE)\n",
        "        ##########################################################\n",
        "        self.target_entropy = 0.98 * -np.log(1 / self.environment.action_space.n)\n",
        "        self.log_alpha = torch.tensor(np.log(self.ALPHA_INITIAL), requires_grad=True)\n",
        "        self.alpha = self.log_alpha\n",
        "        self.alpha_optimiser = torch.optim.Adam([self.log_alpha], lr=self.LEARNING_RATE)\n",
        "\n",
        "    def get_next_action(self, state, evaluation_episode=False):\n",
        "        if evaluation_episode:\n",
        "            discrete_action = self.get_action_deterministically(state)\n",
        "        else:\n",
        "            discrete_action = self.get_action_nondeterministically(state)\n",
        "        return discrete_action\n",
        "\n",
        "    def get_action_nondeterministically(self, state):\n",
        "        action_probabilities = self.get_action_probabilities(state)\n",
        "        discrete_action = np.random.choice(range(self.action_dim), p=action_probabilities)\n",
        "        return discrete_action\n",
        "\n",
        "    def get_action_deterministically(self, state):\n",
        "        action_probabilities = self.get_action_probabilities(state)\n",
        "        discrete_action = np.argmax(action_probabilities)\n",
        "        return discrete_action\n",
        "\n",
        "    def critic_loss(self, states_tensor, actions_tensor, rewards_tensor,\n",
        "                    next_states_tensor, done_tensor):\n",
        "        ##########################################################\n",
        "        # TODO (12 points):\n",
        "        # You are going to calculate critic losses in this method.\n",
        "        # Also you should implement the CQL loss if the corresponding\n",
        "        # flag is set.\n",
        "        ##########################################################\n",
        "        critic_loss, critic2_loss = 0, 0\n",
        "        with torch.no_grad():\n",
        "            action_probabilities, log_action_probabilities = self.get_action_info(next_states_tensor)\n",
        "            next_q_values_target = self.critic_target.forward(next_states_tensor)\n",
        "            next_q_values_target2 = self.critic_target2.forward(next_states_tensor)\n",
        "            soft_state_values = (action_probabilities * (torch.min(next_q_values_target, next_q_values_target2) - self.alpha * log_action_probabilities)).sum(dim=1)\n",
        "\n",
        "            next_q_values = rewards_tensor + ~done_tensor * self.DISCOUNT_RATE * soft_state_values\n",
        "\n",
        "        soft_q_values = self.critic_local(states_tensor).gather(1, actions_tensor.unsqueeze(-1)).squeeze(-1)\n",
        "        soft_q_values2 = self.critic_local2(states_tensor).gather(1, actions_tensor.unsqueeze(-1)).squeeze(-1)\n",
        "        critic_square_error = torch.nn.MSELoss(reduction=\"none\")(soft_q_values, next_q_values)\n",
        "        critic2_square_error = torch.nn.MSELoss(reduction=\"none\")(soft_q_values2, next_q_values)\n",
        "        weight_update = [min(l1.item(), l2.item()) for l1, l2 in zip(critic_square_error, critic2_square_error)]\n",
        "        if not self.offline:\n",
        "            self.replay_buffer.update_weights(weight_update)\n",
        "        critic_loss = critic_square_error.mean()\n",
        "        critic2_loss = critic2_square_error.mean()\n",
        "        \n",
        "        #CQL\n",
        "        if self.offline and self.use_cql:\n",
        "            cql_temp = 1.0\n",
        "            cql_clip_diff_min = -np.inf\n",
        "            cql_clip_diff_max = np.inf\n",
        "            action_dim = action_probabilities.shape\n",
        "            cql_random_actions = torch.FloatTensor(action_dim).uniform_(-1, 1)\n",
        "            cql_current_actions, cql_current_log_pis = self.get_action_info(states_tensor)\n",
        "            cql_next_actions, cql_next_log_pis = self.get_action_info(next_states_tensor)\n",
        "            cql_current_actions, cql_current_log_pis = cql_current_actions.detach(), cql_current_log_pis.detach()\n",
        "            cql_next_actions, cql_next_log_pis = cql_next_actions.detach(), cql_next_log_pis.detach()\n",
        "            cql_q1_rand = self.critic_target(states_tensor)\n",
        "            cql_q2_rand = self.critic_target2(states_tensor)\n",
        "            cql_q1_current_actions = self.critic_target(states_tensor)\n",
        "            cql_q2_current_actions = self.critic_target2(states_tensor)\n",
        "            cql_q1_next_actions = self.critic_target(states_tensor)\n",
        "            cql_q2_next_actions = self.critic_target2(states_tensor)\n",
        "\n",
        "            cql_cat_q1 = torch.cat(\n",
        "                [cql_q1_rand, torch.unsqueeze(next_q_values, 1), cql_q1_next_actions, cql_q1_current_actions], dim=1\n",
        "            )\n",
        "            cql_cat_q2 = torch.cat(\n",
        "                [cql_q2_rand, torch.unsqueeze(next_q_values, 1), cql_q2_next_actions, cql_q2_current_actions], dim=1\n",
        "            )\n",
        "            random_density = np.log(0.5 ** action_dim[0])\n",
        "            cql_cat_q1 = torch.cat(\n",
        "                [cql_q1_rand - random_density,\n",
        "                    cql_q1_next_actions - cql_next_log_pis.detach(),\n",
        "                    cql_q1_current_actions - cql_current_log_pis.detach()],\n",
        "                dim=1\n",
        "            )\n",
        "            cql_cat_q2 = torch.cat(\n",
        "                [cql_q2_rand - random_density,\n",
        "                    cql_q2_next_actions - cql_next_log_pis.detach(),\n",
        "                    cql_q2_current_actions - cql_current_log_pis.detach()],\n",
        "                dim=1\n",
        "            )\n",
        "            cql_qf1_ood = torch.logsumexp(cql_cat_q1 / cql_temp, dim=1) * cql_temp\n",
        "            cql_qf2_ood = torch.logsumexp(cql_cat_q2 / cql_temp, dim=1) * cql_temp\n",
        "            \"\"\"Subtract the log likelihood of data\"\"\"\n",
        "            cql_qf1_diff = torch.clamp(\n",
        "                cql_qf1_ood - next_q_values,\n",
        "                cql_clip_diff_min,\n",
        "                cql_clip_diff_max,\n",
        "            ).mean()\n",
        "            cql_qf2_diff = torch.clamp(\n",
        "                cql_qf2_ood - next_q_values,\n",
        "                cql_clip_diff_min,\n",
        "                cql_clip_diff_max,\n",
        "            ).mean()\n",
        "            cql_min_qf1_loss = cql_qf1_diff * float(self.TRADEOFF_FACTOR)\n",
        "            cql_min_qf2_loss = cql_qf2_diff * float(self.TRADEOFF_FACTOR)\n",
        "            critic_loss += cql_min_qf1_loss\n",
        "            critic2_loss += cql_min_qf2_loss\n",
        "        return critic_loss, critic2_loss\n",
        "        ##########################################################\n",
        "\n",
        "    def actor_loss(self, states_tensor, actions_tensor):\n",
        "        ##########################################################\n",
        "        # TODO (8 points):\n",
        "        # Now implement the actor loss.\n",
        "        ##########################################################\n",
        "        actor_loss, log_action_probabilities = 0, 0\n",
        "        action_probabilities, log_action_probabilities = self.get_action_info(states_tensor)\n",
        "        q_values_local = self.critic_local(states_tensor)\n",
        "        q_values_local2 = self.critic_local2(states_tensor)\n",
        "        inside_term = self.alpha * log_action_probabilities - torch.min(q_values_local, q_values_local2)\n",
        "        actor_loss = (action_probabilities * inside_term).sum(dim=1).mean()\n",
        "        return actor_loss, log_action_probabilities\n",
        "        ##########################################################\n",
        "\n",
        "    def train_on_transition(self, state, discrete_action, next_state, reward, done):\n",
        "        transition = (state, discrete_action, reward, next_state, done)\n",
        "        self.train_networks(transition)\n",
        "\n",
        "    def train_networks(self, transition=None, batch_deterministic_start=None):\n",
        "        ##########################################################\n",
        "        # TODO (6 points):\n",
        "        # Set all the gradients stored in the optimizers to zero.\n",
        "        # Add the new transition to the replay buffer for online case.\n",
        "        ##########################################################\n",
        "        self.critic_optimiser.zero_grad()\n",
        "        self.critic_optimiser2.zero_grad()\n",
        "        self.actor_optimiser.zero_grad()\n",
        "        self.alpha_optimiser.zero_grad()\n",
        "\n",
        "        if not self.offline:\n",
        "            self.replay_buffer.add_transition(transition)\n",
        "\n",
        "\n",
        "        if self.replay_buffer.get_size() >= self.REPLAY_BUFFER_BATCH_SIZE:\n",
        "            minibatch = self.replay_buffer.sample_minibatch(self.REPLAY_BUFFER_BATCH_SIZE, batch_deterministic_start=batch_deterministic_start)\n",
        "            minibatch_separated = list(map(list, zip(*minibatch)))\n",
        "\n",
        "            states_tensor = torch.tensor(np.array(minibatch_separated[0]))\n",
        "            actions_tensor = torch.tensor(np.array(minibatch_separated[1]))\n",
        "            rewards_tensor = torch.tensor(np.array(minibatch_separated[2])).float()\n",
        "            next_states_tensor = torch.tensor(np.array(minibatch_separated[3]))\n",
        "            done_tensor = torch.tensor(np.array(minibatch_separated[4]))\n",
        "\n",
        "            ##########################################################\n",
        "            # TODO (16 points):\n",
        "            # Here, you should compute the gradients based on this loss, i.e. the gradients\n",
        "            # of the loss with respect to the Q-network parameters.\n",
        "            # Given a minibatch of 100 transitions from replay buffer,\n",
        "            # compute the critic loss and perform the backpropagation,\n",
        "            # then compute the actor loss and backpropagate the gradient on it.\n",
        "            # You also need to update \\alpha.\n",
        "            ##########################################################\n",
        "            critic_loss, critic2_loss = self.critic_loss(states_tensor, actions_tensor, rewards_tensor, next_states_tensor, done_tensor)\n",
        "            critic_loss.backward()\n",
        "            critic2_loss.backward()\n",
        "            self.critic_optimiser.step()\n",
        "            self.critic_optimiser2.step()\n",
        "            actor_loss, log_action_probabilities = self.actor_loss(states_tensor, actions_tensor)\n",
        "            actor_loss.backward()\n",
        "            self.actor_optimiser.step()\n",
        "            alpha_loss = self.temperature_loss(log_action_probabilities)\n",
        "            alpha_loss.backward()\n",
        "            self.alpha_optimiser.step()\n",
        "            self.alpha = self.log_alpha.exp()\n",
        "            self.soft_update_target_networks()\n",
        "            ##########################################################\n",
        "            self.soft_update_target_networks()\n",
        "\n",
        "    def temperature_loss(self, log_action_probabilities):\n",
        "        alpha_loss = -(self.log_alpha * (log_action_probabilities + self.target_entropy).detach()).mean()\n",
        "        return alpha_loss\n",
        "\n",
        "    def get_action_info(self, states_tensor):\n",
        "        action_probabilities = self.actor_local.forward(states_tensor)\n",
        "        z = action_probabilities == 0.0\n",
        "        z = z.float() * 1e-8\n",
        "        log_action_probabilities = torch.log(action_probabilities + z)\n",
        "        return action_probabilities, log_action_probabilities\n",
        "\n",
        "    def get_action_probabilities(self, state):\n",
        "        state_tensor = torch.tensor(state, dtype=torch.float32).unsqueeze(0)\n",
        "        action_probabilities = self.actor_local.forward(state_tensor)\n",
        "        return action_probabilities.squeeze(0).detach().numpy()\n",
        "\n",
        "    def soft_update_target_networks(self, tau=SOFT_UPDATE_INTERPOLATION_FACTOR):\n",
        "        self.soft_update(self.critic_target, self.critic_local, tau)\n",
        "        self.soft_update(self.critic_target2, self.critic_local2, tau)\n",
        "\n",
        "    def soft_update(self, target_model, origin_model, tau):\n",
        "        for target_param, local_param in zip(target_model.parameters(), origin_model.parameters()):\n",
        "            target_param.data.copy_(tau * local_param.data + (1 - tau) * target_param.data)\n",
        "\n",
        "    def predict_q_values(self, state, action):\n",
        "        q_values = self.critic_local(state)\n",
        "        q_values2 = self.critic_local2(state)\n",
        "        return torch.min(q_values, q_values2)"
      ]
    },
    {
      "cell_type": "markdown",
      "metadata": {
        "id": "X7Tx4pS_kdo-"
      },
      "source": [
        "## Online SAC training loop (10 points)"
      ]
    },
    {
      "cell_type": "markdown",
      "metadata": {
        "id": "jUm9_qfAlvf_"
      },
      "source": [
        "Now evaluate your model in CartPole environment in the online setting. After each 4 episodes, you should evaluate your model on a separate test environment. Run your model 4 times separately and plot the mean and deviation of the evaluation curves.\n",
        "\n",
        "**NOTE:** Since you are going to use the replay buffer of this agent as the offline dataset, you may want to save it for later use."
      ]
    },
    {
      "cell_type": "code",
      "execution_count": 5,
      "metadata": {
        "colab": {
          "base_uri": "https://localhost:8080/"
        },
        "id": "c6quXtBzZ6nZ",
        "outputId": "fc91b79a-bc5f-478a-d79f-71f05f022863"
      },
      "outputs": [
        {
          "name": "stderr",
          "output_type": "stream",
          "text": [
            "/Users/husseinjafarinia/venvs/ML_For_Bio/lib/python3.10/site-packages/gym/core.py:317: DeprecationWarning: \u001b[33mWARN: Initializing wrapper in old step API which returns one bool instead of two. It is recommended to set `new_step_api=True` to use new step API. This will be the default behaviour in future.\u001b[0m\n",
            "  deprecation(\n",
            "/Users/husseinjafarinia/venvs/ML_For_Bio/lib/python3.10/site-packages/gym/wrappers/step_api_compatibility.py:39: DeprecationWarning: \u001b[33mWARN: Initializing environment in old step API which returns one bool instead of two. It is recommended to set `new_step_api=True` to use new step API. This will be the default behaviour in future.\u001b[0m\n",
            "  deprecation(\n"
          ]
        },
        {
          "name": "stdout",
          "output_type": "stream",
          "text": [
            " Episode: 1000/1000 "
          ]
        },
        {
          "data": {
            "image/png": "[encoded data removed]",
            "text/plain": [
              "<Figure size 432x288 with 1 Axes>"
            ]
          },
          "metadata": {
            "needs_background": "light"
          },
          "output_type": "display_data"
        }
      ],
      "source": [
        "TRAINING_EVALUATION_RATIO = 4\n",
        "EPISODES_PER_RUN = 1000\n",
        "STEPS_PER_EPISODE = 200\n",
        "env = gym.make(\"CartPole-v1\")\n",
        "\n",
        "##########################################################\n",
        "# TODO (10 points):\n",
        "# Implement the training loop for the online SAC.\n",
        "# 1) You need to initialize an agent with the\n",
        "#    `replay_buffer` set to None. Also, leave the\n",
        "#    `use_cql` and `offline` flags to remain False.\n",
        "# 2) After each epoch, run `EPISODES_PER_RUN` validation\n",
        "#    episodes and plot the mean return over these\n",
        "#    episodes in the end.\n",
        "# 3) Plot the learning curves.\n",
        "##########################################################\n",
        "agent_results = []\n",
        "online_sac_agent = SACAgent(env, replay_buffer=None, offline=False, use_cql=False)\n",
        "run_results = []\n",
        "for episode_number in range(EPISODES_PER_RUN):\n",
        "    print('\\r', f'Episode: {episode_number + 1}/{EPISODES_PER_RUN}', end=' ')\n",
        "    evaluation_episode = episode_number % TRAINING_EVALUATION_RATIO == 0\n",
        "    episode_reward = 0\n",
        "    state = env.reset()\n",
        "    done = False\n",
        "    i = 0\n",
        "    while not done and i < STEPS_PER_EPISODE:\n",
        "        i += 1\n",
        "        action = online_sac_agent.get_next_action(state, evaluation_episode=evaluation_episode)\n",
        "        next_state, reward, done, info = env.step(action)\n",
        "        if not evaluation_episode:\n",
        "            online_sac_agent.train_on_transition(state, action, next_state, reward, done)\n",
        "        else:\n",
        "            episode_reward += reward\n",
        "        state = next_state\n",
        "    if evaluation_episode:\n",
        "        run_results.append(episode_reward)\n",
        "\n",
        "env.close()\n",
        "\n",
        "x_axis = list(range(len(run_results)))\n",
        "x_axis = [x * (TRAINING_EVALUATION_RATIO - 1) for x in list(range(len(x_axis)))]\n",
        "\n",
        "plt.plot(x_axis, run_results, label='Reward')\n",
        "plt.xlabel('Episode')\n",
        "plt.ylabel('Reward')\n",
        "plt.title('Online SAC')\n",
        "plt.legend()\n",
        "plt.show()"
      ]
    },
    {
      "cell_type": "markdown",
      "metadata": {
        "id": "WxqbDN6DU0AY"
      },
      "source": [
        "## Offline SAC training loop (10 points)"
      ]
    },
    {
      "cell_type": "markdown",
      "metadata": {
        "id": "QRwciG6WU6ES"
      },
      "source": [
        "In this part you are going to train an SAC agent using the replay buffer from the online agent. During training you sample from this replay buffer and train the offline agent **without adding transitions to the replay buffer**. The loss function and every thing else is the same as the online setting."
      ]
    },
    {
      "cell_type": "code",
      "execution_count": 7,
      "metadata": {
        "id": "AcArEy_EU5H0"
      },
      "outputs": [
        {
          "name": "stdout",
          "output_type": "stream",
          "text": [
            " Epoch: 200/200 "
          ]
        },
        {
          "data": {
            "image/png": "[encoded data removed]",
            "text/plain": [
              "<Figure size 432x288 with 1 Axes>"
            ]
          },
          "metadata": {
            "needs_background": "light"
          },
          "output_type": "display_data"
        }
      ],
      "source": [
        "RUNS = 1\n",
        "NUM_EPOCHS = 200\n",
        "EPISODES_PER_RUN = 100\n",
        "\n",
        "env = gym.make(\"CartPole-v1\")\n",
        "\n",
        "##########################################################\n",
        "# TODO (10 points):\n",
        "# Implement the training loop for the offline SAC.\n",
        "# 1) You need to initialize an agent with the\n",
        "#    `replay_buffer` of the pretrained online agent. Set\n",
        "#     the `offline` flag and leave the `use_cql` flag to\n",
        "#     remain False.\n",
        "# 2) You can use `batch_deterministic_start` in the\n",
        "#    `train_networks` method to select all minibatches\n",
        "#    of the data to train in an offline manner.\n",
        "# 3) After each epoch, run `EPISODES_PER_RUN` validation\n",
        "#    episodes and plot the mean return over these\n",
        "#    episodes in the end.\n",
        "##########################################################\n",
        "agent_results = []\n",
        "offline_sac_agent = SACAgent(env, replay_buffer=online_sac_agent.replay_buffer, offline=True, use_cql=False)\n",
        "average_run_results = []\n",
        "for epoch in range(NUM_EPOCHS):\n",
        "    print('\\r', f'Epoch: {epoch + 1}/{NUM_EPOCHS}', end=' ')\n",
        "    #train\n",
        "    minibatch_size = 1000\n",
        "    batch_deterministic_start = 0\n",
        "    while batch_deterministic_start < offline_sac_agent.replay_buffer.count:\n",
        "        minibatch = offline_sac_agent.replay_buffer.sample_minibatch(minibatch_size, batch_deterministic_start=batch_deterministic_start)\n",
        "        minibatch_separated = list(map(list, zip(*minibatch)))\n",
        "        \n",
        "        states_tensor = torch.tensor(np.array(minibatch_separated[0]))\n",
        "        actions_tensor = torch.tensor(np.array(minibatch_separated[1]))\n",
        "        rewards_tensor = torch.tensor(np.array(minibatch_separated[2])).float()\n",
        "        next_states_tensor = torch.tensor(np.array(minibatch_separated[3]))\n",
        "        done_tensor = torch.tensor(np.array(minibatch_separated[4]))\n",
        "        \n",
        "        batch_deterministic_start += minibatch_size\n",
        "        offline_sac_agent.train_on_transition(states_tensor, actions_tensor, next_states_tensor, rewards_tensor, done_tensor)\n",
        "    \n",
        "    \n",
        "    #validation\n",
        "    run_results = []\n",
        "    for episode_number in range(EPISODES_PER_RUN):\n",
        "        episode_reward = 0\n",
        "        state = env.reset()\n",
        "        done = False\n",
        "        i = 0\n",
        "        while not done and i < STEPS_PER_EPISODE:\n",
        "            i += 1\n",
        "            action = offline_sac_agent.get_next_action(state, evaluation_episode=True)\n",
        "            next_state, reward, done, info = env.step(action)\n",
        "            episode_reward += reward\n",
        "            state = next_state\n",
        "        run_results.append(episode_reward)\n",
        "    average_run_results.append(np.mean(run_results))\n",
        "    \n",
        "\n",
        "env.close()\n",
        "\n",
        "x_axis = list(range(len(average_run_results)))\n",
        "\n",
        "plt.plot(x_axis, average_run_results, label='Reward')\n",
        "plt.xlabel('Epoch')\n",
        "plt.ylabel('Reward')\n",
        "plt.title('Offline SAC')\n",
        "plt.legend()\n",
        "plt.show()"
      ]
    },
    {
      "cell_type": "markdown",
      "metadata": {
        "id": "CJ8HlBr0kkZv"
      },
      "source": [
        "## Conservative SAC training loop (5 points)"
      ]
    },
    {
      "cell_type": "markdown",
      "metadata": {
        "id": "VOIESLFwXs7Q"
      },
      "source": [
        "Similar to the previous part, you are going to train another offline agent. In this part, you are going to use the conservative version of SAC."
      ]
    },
    {
      "cell_type": "code",
      "execution_count": 13,
      "metadata": {
        "id": "vP_L7h0bYD4V"
      },
      "outputs": [
        {
          "name": "stdout",
          "output_type": "stream",
          "text": [
            " Epoch: 200/200 "
          ]
        },
        {
          "data": {
            "image/png": "[encoded data removed]",
            "text/plain": [
              "<Figure size 432x288 with 1 Axes>"
            ]
          },
          "metadata": {
            "needs_background": "light"
          },
          "output_type": "display_data"
        }
      ],
      "source": [
        "RUNS = 1\n",
        "NUM_EPOCHS = 200\n",
        "EPISODES_PER_RUN = 100\n",
        "\n",
        "env = gym.make(\"CartPole-v1\")\n",
        "\n",
        "##########################################################\n",
        "# TODO (5 points):\n",
        "# Implement the training loop for the conservative SAC.\n",
        "# 1) You need to initialize an agent with the current\n",
        "#    `replay_buffer` of the online agent. Set the `offline`\n",
        "#     and `use_cql` flags.\n",
        "# 2) You can use `batch_deterministic_start` in the\n",
        "#    `train_networks` method to select all minibatches\n",
        "#    of the data to train in an offline manner.\n",
        "# 3) After each epoch, run `EPISODES_PER_RUN` validation\n",
        "#    episodes and plot the mean return over these\n",
        "#    episodes in the end.\n",
        "##########################################################\n",
        "agent_results = []\n",
        "offline_cql_sac_agent = SACAgent(env, replay_buffer=online_sac_agent.replay_buffer, offline=True, use_cql=True)\n",
        "average_run_results = []\n",
        "for epoch in range(NUM_EPOCHS):\n",
        "    print('\\r', f'Epoch: {epoch + 1}/{NUM_EPOCHS}', end=' ')\n",
        "    #train\n",
        "    minibatch_size = 1000\n",
        "    batch_deterministic_start = 0\n",
        "    while batch_deterministic_start < offline_cql_sac_agent.replay_buffer.count:\n",
        "        minibatch = offline_cql_sac_agent.replay_buffer.sample_minibatch(minibatch_size, batch_deterministic_start=batch_deterministic_start)\n",
        "        minibatch_separated = list(map(list, zip(*minibatch)))\n",
        "        \n",
        "        states_tensor = torch.tensor(np.array(minibatch_separated[0]))\n",
        "        actions_tensor = torch.tensor(np.array(minibatch_separated[1]))\n",
        "        rewards_tensor = torch.tensor(np.array(minibatch_separated[2])).float()\n",
        "        next_states_tensor = torch.tensor(np.array(minibatch_separated[3]))\n",
        "        done_tensor = torch.tensor(np.array(minibatch_separated[4]))\n",
        "        \n",
        "        batch_deterministic_start += minibatch_size\n",
        "    \n",
        "        offline_cql_sac_agent.train_on_transition(states_tensor, actions_tensor, next_states_tensor, rewards_tensor, done_tensor)\n",
        "    \n",
        "    \n",
        "    #validation\n",
        "    run_results = []\n",
        "    for episode_number in range(EPISODES_PER_RUN):\n",
        "        episode_reward = 0\n",
        "        state = env.reset()\n",
        "        done = False\n",
        "        i = 0\n",
        "        while not done and i < STEPS_PER_EPISODE:\n",
        "            i += 1\n",
        "            action = offline_cql_sac_agent.get_next_action(state, evaluation_episode=True)\n",
        "            next_state, reward, done, info = env.step(action)\n",
        "            episode_reward += reward\n",
        "            state = next_state\n",
        "        run_results.append(episode_reward)\n",
        "    average_run_results.append(np.mean(run_results))\n",
        "    \n",
        "\n",
        "env.close()\n",
        "\n",
        "x_axis = list(range(len(average_run_results)))\n",
        "\n",
        "plt.plot(x_axis, average_run_results, label='Reward')\n",
        "plt.xlabel('Epoch')\n",
        "plt.ylabel('Reward')\n",
        "plt.title('Offline CQL SAC')\n",
        "plt.legend()\n",
        "plt.show()"
      ]
    },
    {
      "attachments": {},
      "cell_type": "markdown",
      "metadata": {
        "id": "3q3LIScuYTeX"
      },
      "source": [
        "## Comparisons (14 points)\n",
        "Now, analyze your results and justify the trends you see. Then answer the following questions.\n",
        "\n",
        "❓ What is the reason for the difference between online and offline performance of the agent?\n",
        "\\\n",
        "✅ In offline setting we have distribution shift and OOD generalization problem (for the Q function part we are getting max of Q function and max acts as an adverserial example in for our estimator and also we maybe do actions that we haven't seen in dataset).\n",
        "\n",
        "❓ Which one is better: offline SAC or conservative SAC?\n",
        "\\\n",
        "✅ Conservative SAC. Because it somewhat solves the problem of distribution shift and ood generalization specially the Q function part my git min of it while getting max of policy.\n",
        "\n",
        "❓ What is the effect of `TRADEOFF_FACTOR` in the offline setting? How does changing its value affect the results?\n",
        "\\\n",
        "✅ There is a tradeoff for it. The more it is the more conservative the algorithm is and the slower the convergence and the less it is the faster but noisier the convergence."
      ]
    },
    {
      "cell_type": "code",
      "execution_count": null,
      "metadata": {},
      "outputs": [],
      "source": [
        "#References:\n",
        "#https://arxiv.org/abs/1812.05905\n",
        "#https://arxiv.org/abs/1910.07207\n",
        "#https://github.com/Felhof/DiscreteSAC\n",
        "#https://github.com/p-christ/Deep-Reinforcement-Learning-Algorithms-with-PyTorch/blob/master/agents/actor_critic_agents\n",
        "#https://towardsdatascience.com/adapting-soft-actor-critic-for-discrete-action-spaces-a20614d4a50a\n",
        "#https://arxiv.org/pdf/2006.04779.pdf\n",
        "#https://github.com/young-geng/CQL"
      ]
    }
  ],
  "metadata": {
    "accelerator": "GPU",
    "colab": {
      "gpuType": "T4",
      "provenance": []
    },
    "kernelspec": {
      "display_name": "Python 3",
      "name": "python3"
    },
    "language_info": {
      "codemirror_mode": {
        "name": "ipython",
        "version": 3
      },
      "file_extension": ".py",
      "mimetype": "text/x-python",
      "name": "python",
      "nbconvert_exporter": "python",
      "pygments_lexer": "ipython3",
      "version": "3.10.4"
    }
  },
  "nbformat": 4,
  "nbformat_minor": 0
}
